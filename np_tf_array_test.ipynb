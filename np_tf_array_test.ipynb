{
 "metadata": {
  "language_info": {
   "codemirror_mode": {
    "name": "ipython",
    "version": 3
   },
   "file_extension": ".py",
   "mimetype": "text/x-python",
   "name": "python",
   "nbconvert_exporter": "python",
   "pygments_lexer": "ipython3",
   "version": "3.7.3-final"
  },
  "orig_nbformat": 2,
  "kernelspec": {
   "name": "python_defaultSpec_1601213527132",
   "display_name": "Python 3.7.3 64-bit ('base': conda)"
  }
 },
 "nbformat": 4,
 "nbformat_minor": 2,
 "cells": [
  {
   "cell_type": "code",
   "execution_count": 1,
   "metadata": {},
   "outputs": [],
   "source": [
    "import tensorflow as tf\n",
    "import pandas as pd\n",
    "import numpy as np\n",
    "import math"
   ]
  },
  {
   "cell_type": "markdown",
   "metadata": {},
   "source": [
    "### 生成随机数组"
   ]
  },
  {
   "cell_type": "code",
   "execution_count": 2,
   "metadata": {
    "tags": []
   },
   "outputs": [
    {
     "output_type": "stream",
     "name": "stdout",
     "text": "(500, 35, 19)\n"
    }
   ],
   "source": [
    "data = np.random.randn(500,35,19)\n",
    "print(data.shape)"
   ]
  },
  {
   "cell_type": "markdown",
   "metadata": {},
   "source": [
    "# 1. 矩阵的维度扩展\n",
    "### 1.1 扩展一个空维度"
   ]
  },
  {
   "cell_type": "code",
   "execution_count": 3,
   "metadata": {
    "tags": []
   },
   "outputs": [
    {
     "output_type": "stream",
     "name": "stdout",
     "text": "(500, 35, 19, 1)\n"
    }
   ],
   "source": [
    "y = np.expand_dims(data, axis=-1)\n",
    "print(y.shape)"
   ]
  },
  {
   "cell_type": "code",
   "execution_count": 4,
   "metadata": {
    "tags": []
   },
   "outputs": [
    {
     "output_type": "stream",
     "name": "stdout",
     "text": "(500, 35, 19, 1)\n"
    }
   ],
   "source": [
    "y = data[..., np.newaxis]\n",
    "print(y.shape)"
   ]
  },
  {
   "cell_type": "code",
   "execution_count": 53,
   "metadata": {
    "tags": []
   },
   "outputs": [
    {
     "output_type": "stream",
     "name": "stdout",
     "text": "(500, 35, 19, 1)\n"
    }
   ],
   "source": [
    "y = data.reshape(500,35,19,1)\n",
    "print(y.shape)"
   ]
  },
  {
   "cell_type": "markdown",
   "metadata": {},
   "source": [
    "### 1.2 通过复制扩展张量"
   ]
  },
  {
   "cell_type": "code",
   "execution_count": 5,
   "metadata": {
    "tags": []
   },
   "outputs": [
    {
     "output_type": "stream",
     "name": "stdout",
     "text": "(500, 35, 19)\n(500, 70, 57)\n"
    }
   ],
   "source": [
    "y = tf.tile(data, [1, 2, 3]) # 后边的shape代表对应维度上的复制扩展倍数\n",
    "print(data.shape)\n",
    "print(y.shape)"
   ]
  },
  {
   "cell_type": "markdown",
   "metadata": {},
   "source": [
    "### 1.3 通过滑动窗口进行取样扩展\n",
    "#### 方法一：直接滑动窗口进行扩展_拼接列表"
   ]
  },
  {
   "cell_type": "code",
   "execution_count": 6,
   "metadata": {},
   "outputs": [],
   "source": [
    "def get_train_data_window(data_inp, window_size): # 此处使用的是滑动窗口法获取的数据\n",
    "    '''\n",
    "    Create data using sliding windows\n",
    "    Args:\n",
    "        df: input data\n",
    "        window_len: window length\n",
    "    Return:\n",
    "        np.array(data): shape (loop, seq, ...)\n",
    "        loop: less loops but all data is used.\n",
    "    example:\n",
    "        [[a] \n",
    "        [b]\n",
    "        [c]\n",
    "        [d]\n",
    "        [e]]\n",
    "        [[a b c]\n",
    "        [b c d]\n",
    "        [c d e]]\n",
    "    '''\n",
    "    data = []\n",
    "    loop = len(data_inp) - window_size + 1\n",
    "    for i in range(loop):\n",
    "        window = data_inp[i : i + window_size] # (seq, ...)\n",
    "        data.append(window)\n",
    "    return np.array(data) # (loop, seq, ...)"
   ]
  },
  {
   "cell_type": "code",
   "execution_count": 48,
   "metadata": {
    "tags": []
   },
   "outputs": [
    {
     "output_type": "stream",
     "name": "stdout",
     "text": "(483, 18, 35, 19)\n(483, 35, 19, 12)\n(483, 35, 19, 6)\n"
    }
   ],
   "source": [
    "y = get_train_data_window(data, 18)\n",
    "print(y.shape)\n",
    "y1 = np.transpose(y, axes=(0,2,3,1))\n",
    "print(y1[...,:12].shape) # train data\n",
    "print(y1[...,12:].shape) # label to be squeezed"
   ]
  },
  {
   "cell_type": "markdown",
   "metadata": {},
   "source": [
    "#### 方法二：扩展窗口大小的数据然后直接变换\n",
    "* get_time_series_window: 复制window size的数据后并在前或后设置延迟\n",
    "* mode: train or label\n",
    "    * mode='train': 设置开始延迟，前边的数据用第一个值填充，用于产生训练输入数据\n",
    "    * mode='label': 设置结束延迟，后续的数据用nan或者其他填充，用于产生训练label，之后使用filter将有nan标签的数据去除掉\n",
    "\n",
    "* 写法：合并空维度"
   ]
  },
  {
   "cell_type": "code",
   "execution_count": 8,
   "metadata": {},
   "outputs": [],
   "source": [
    "def get_time_series_window(x, window_size, mode='train'): \n",
    "    '''\n",
    "    example:\n",
    "        [[a] \n",
    "        [b]\n",
    "        [c]\n",
    "        [d]]\n",
    "        mode='train'\n",
    "        [[a a a]\n",
    "        [a a b]\n",
    "        [a b c]\n",
    "        [b c d]]\n",
    "        mode='label'\n",
    "        [[a b c]\n",
    "        [b c d]\n",
    "        [c d nan]\n",
    "        [d nan nan]]\n",
    "    '''\n",
    "    x = np.expand_dims(x, axis=-1) # 扩展一个空维度，最后在这个空维度上合并\n",
    "    init_value = x[0]\n",
    "    inputs_lagged = x\n",
    "    for i in range(1, window_size): # i(1,2,...,window_size-1) i=0时已经确定了\n",
    "        if mode == 'train':\n",
    "            inputs_roll = np.roll(x, i, axis=0) # 按照某一轴的数据顺序滚动i次\n",
    "            inputs_roll[:i] = init_value\n",
    "            inputs_lagged = np.concatenate((inputs_roll, inputs_lagged), axis=-1)\n",
    "        elif mode == 'label':\n",
    "            inputs_roll = np.roll(x, -i, axis=0) # 按照某一轴的数据逆序滚动i次\n",
    "            inputs_roll[-i:] = np.nan\n",
    "            inputs_lagged = np.concatenate((inputs_lagged, inputs_roll), axis=-1)\n",
    "    return inputs_lagged"
   ]
  },
  {
   "cell_type": "code",
   "execution_count": 43,
   "metadata": {
    "tags": []
   },
   "outputs": [
    {
     "output_type": "stream",
     "name": "stdout",
     "text": "(500, 35, 19, 12)\n(500, 35, 19, 6)\n"
    }
   ],
   "source": [
    "x = get_time_series_window(data, 12, 'train')\n",
    "print(x.shape)\n",
    "y = get_time_series_window(data, 6, 'label')\n",
    "print(y.shape)"
   ]
  },
  {
   "cell_type": "code",
   "execution_count": 44,
   "metadata": {
    "tags": []
   },
   "outputs": [
    {
     "output_type": "stream",
     "name": "stdout",
     "text": "(500,)\nx: (495, 35, 19, 12) y: (495, 35, 19, 6)\n"
    }
   ],
   "source": [
    "filter = (np.isnan(y)).any(axis=-1)[:,0,0] # findout which first axis nan data to remove \n",
    "print(filter.shape)\n",
    "x = x[~filter]\n",
    "y = y[~filter]\n",
    "print('x:', x.shape,'y:', y.shape)"
   ]
  },
  {
   "cell_type": "markdown",
   "metadata": {},
   "source": [
    "# 2. 矩阵的维度缩减\n",
    "### 2.1 压缩所有空维度"
   ]
  },
  {
   "cell_type": "code",
   "execution_count": 49,
   "metadata": {
    "tags": []
   },
   "outputs": [
    {
     "output_type": "stream",
     "name": "stdout",
     "text": "(500, 35, 19, 1)\n(500, 35, 19)\n"
    }
   ],
   "source": [
    "y = np.expand_dims(data, axis=-1)\n",
    "print(y.shape)\n",
    "y = np.squeeze(y) # tf.squeeze _ the same\n",
    "print(y.shape)"
   ]
  },
  {
   "cell_type": "markdown",
   "metadata": {},
   "source": [
    "### 2.2 减少维度\n",
    "* tf.reduce_sum, mean, max, min, prod, all: 按照对应的方法缩减维度"
   ]
  },
  {
   "cell_type": "code",
   "execution_count": 55,
   "metadata": {
    "tags": []
   },
   "outputs": [
    {
     "output_type": "stream",
     "name": "stdout",
     "text": "(500, 35)\n"
    }
   ],
   "source": [
    "y = tf.reduce_sum(data, axis=-1, keepdims=False)\n",
    "print(y.shape)"
   ]
  },
  {
   "cell_type": "markdown",
   "metadata": {},
   "source": [
    "# 3. 矩阵维度变换\n"
   ]
  },
  {
   "cell_type": "markdown",
   "metadata": {},
   "source": [
    "* 通用维度转换——reshape函数"
   ]
  },
  {
   "cell_type": "markdown",
   "metadata": {},
   "source": [
    "* 交换矩阵维度"
   ]
  },
  {
   "cell_type": "code",
   "execution_count": 11,
   "metadata": {
    "tags": []
   },
   "outputs": [
    {
     "output_type": "stream",
     "name": "stdout",
     "text": "(500, 19, 35)\n"
    }
   ],
   "source": [
    "y1 = np.swapaxes(data, 1, 2) \n",
    "print(y1.shape)"
   ]
  },
  {
   "cell_type": "markdown",
   "metadata": {},
   "source": [
    "* 矩阵的转置(包括交换随便两个维度轴)\n",
    "* 同理还可以用tf.transpose进行计算"
   ]
  },
  {
   "cell_type": "code",
   "execution_count": 12,
   "metadata": {
    "tags": []
   },
   "outputs": [
    {
     "output_type": "stream",
     "name": "stdout",
     "text": "(19, 35, 500)\n(500, 19, 35)\nTrue\n"
    }
   ],
   "source": [
    "y = np.transpose(data)\n",
    "print(y.shape)\n",
    "y2 = np.transpose(data, axes=(0, 2, 1))\n",
    "print(y2.shape)\n",
    "print(np.array_equal(y1,y2))"
   ]
  },
  {
   "cell_type": "code",
   "execution_count": 1,
   "metadata": {
    "tags": []
   },
   "outputs": [
    {
     "output_type": "stream",
     "name": "stderr",
     "text": "[NbConvertApp] Converting notebook np_tf_array_test.ipynb to markdown\n[NbConvertApp] Writing 4087 bytes to np_tf_array_test.md\n"
    }
   ],
   "source": [
    "!jupyter nbconvert --to markdown np_tf_array_test.ipynb"
   ]
  },
  {
   "cell_type": "code",
   "execution_count": null,
   "metadata": {},
   "outputs": [],
   "source": []
  }
 ]
}